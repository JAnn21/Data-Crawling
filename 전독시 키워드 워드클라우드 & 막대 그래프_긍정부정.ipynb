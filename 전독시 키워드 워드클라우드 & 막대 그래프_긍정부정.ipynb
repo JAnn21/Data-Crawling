{
 "cells": [
  {
   "cell_type": "markdown",
   "metadata": {},
   "source": [
    "# 전체 웹툰 댓글 키워드 분석"
   ]
  },
  {
   "cell_type": "markdown",
   "metadata": {},
   "source": [
    "## 데이터 준비 및 탐색"
   ]
  },
  {
   "cell_type": "code",
   "execution_count": 1,
   "metadata": {},
   "outputs": [],
   "source": [
    "import pandas as pd\n",
    "import numpy as np\n",
    "import matplotlib.pyplot as plt\n",
    "from konlpy.tag import Okt\n",
    "from collections import Counter\n",
    "from wordcloud import WordCloud\n",
    "from multiprocessing import freeze_support\n",
    "from collections import Counter"
   ]
  },
  {
   "cell_type": "code",
   "execution_count": 2,
   "metadata": {},
   "outputs": [],
   "source": [
    "data_posi = pd.read_csv('전독시_긍정감성_결과.csv', encoding='utf-8-sig', engine='python')\n",
    "data_nega = pd.read_csv('전독시_부정감성_결과.csv', encoding='utf-8-sig', engine='python')"
   ]
  },
  {
   "cell_type": "code",
   "execution_count": 5,
   "metadata": {},
   "outputs": [],
   "source": [
    "# Unnamed: 0  열 제거\n",
    "del data_posi['Unnamed: 0']\n",
    "del data_nega['Unnamed: 0']\n",
    "\n",
    "del data_posi['label']\n",
    "del data_nega['label']"
   ]
  },
  {
   "cell_type": "code",
   "execution_count": 9,
   "metadata": {},
   "outputs": [],
   "source": [
    "# 중복된 값 제거\n",
    "data_posi.drop_duplicates(subset=['comment'], inplace=True)\n",
    "data_nega.drop_duplicates(subset=['comment'], inplace=True)\n"
   ]
  },
  {
   "cell_type": "code",
   "execution_count": 10,
   "metadata": {},
   "outputs": [],
   "source": [
    "# 한글 문자 이외의 문자는 공백으로 변환\n",
    "import re\n",
    "data_posi['comment'] = data_posi['comment'].apply(lambda x : re.sub(r'[^ ㄱ-ㅣ가-힣]+', \" \",x))\n",
    "data_nega['comment'] = data_nega['comment'].apply(lambda x : re.sub(r'[^ ㄱ-ㅣ가-힣]+', \" \",x))"
   ]
  },
  {
   "cell_type": "code",
   "execution_count": 12,
   "metadata": {},
   "outputs": [],
   "source": [
    "# 빈칸을 null값으로 설정\n",
    "data_posi['comment'].replace(' ', np.nan, inplace=True)\n",
    "data_nega['comment'].replace(' ', np.nan, inplace=True)"
   ]
  },
  {
   "cell_type": "code",
   "execution_count": 16,
   "metadata": {},
   "outputs": [],
   "source": [
    "# null값이 존재하는 행 제거\n",
    "data_posi = data_posi.dropna(how='any')\n",
    "data_nega = data_nega.dropna(how='any')"
   ]
  },
  {
   "cell_type": "markdown",
   "metadata": {},
   "source": [
    "## ========================================="
   ]
  },
  {
   "cell_type": "markdown",
   "metadata": {},
   "source": [
    "## 명사만 추출하기"
   ]
  },
  {
   "cell_type": "code",
   "execution_count": 17,
   "metadata": {},
   "outputs": [],
   "source": [
    "okt = Okt()"
   ]
  },
  {
   "cell_type": "code",
   "execution_count": 19,
   "metadata": {},
   "outputs": [
    {
     "name": "stdout",
     "output_type": "stream",
     "text": [
      "[('헐다', 'Verb'), ('자세하다', 'Adjective'), ('보', 'Noun'), ('니까', 'Josa'), ('이지혜', 'Noun'), ('울다', 'Verb')]\n"
     ]
    }
   ],
   "source": [
    "# comment에서 품사 정보를 부착하여 반환 ==> 긍정\n",
    "pos_comment_pos = []\n",
    "for comment in data_posi['comment']:\n",
    "    pos_temp = okt.pos(comment, norm=True, stem=True) #okt의 pos 함수를 이용하여 품사 추출\n",
    "    pos_comment_pos.append(pos_temp)\n",
    "    \n",
    "print(pos_comment_pos[3]) # 출력된 결과에서 Noun이 명사"
   ]
  },
  {
   "cell_type": "code",
   "execution_count": 20,
   "metadata": {},
   "outputs": [
    {
     "name": "stdout",
     "output_type": "stream",
     "text": [
      "[('이지혜', 'Noun'), ('우리엄마', 'Noun'), ('이름', 'Noun'), ('인데', 'Josa')]\n"
     ]
    }
   ],
   "source": [
    "# comment에서 품사 정보를 부착하여 반환 ==> 부정\n",
    "pos_comment_neg = []\n",
    "for comment in data_nega['comment']:\n",
    "    pos_temp = okt.pos(comment, norm=True, stem=True) #okt의 pos 함수를 이용하여 품사 추출\n",
    "    pos_comment_neg.append(pos_temp)\n",
    "    \n",
    "print(pos_comment_neg[3]) # 출력된 결과에서 Noun이 명사"
   ]
  },
  {
   "cell_type": "code",
   "execution_count": 21,
   "metadata": {},
   "outputs": [
    {
     "name": "stdout",
     "output_type": "stream",
     "text": [
      "['도깨비', '얼굴', '생물', '식물', '세균', '포함', '길', '미션', '수', '세균', '감염', '면역체계', '금방', '친구', '쟤', '이지혜', '거', '이름', '오', '대박', '엄마', '나', '친구', '보', '이지혜', '소설', '볼때', '지혜', '이미지', '단발', '생각', '제', '생각', '요', '하나로', '진리', '저', '잼민', '해상', '전신', '감동', '존나', '나', '도깨비', '첫인상', '생각', '함', '다시', '보고', '생각', '기억', '갑', '년', '동안', '소설', '도입', '부분', '기억', '오늘', '차', '지혜', '보고', '다시', '옴', '노스', '역시', '소설', '웹', '보고', '그', '다음', '소설', '최고', '임', '소대장', '통제', '이', '웹툰', '의', '모든', '컷', '떡밥', '라면', '번', '진짜', '모든', '컷', '모든', '장면', '떡밥', '여러분', '대박', '거', '실사', '해상', '제독', '이지혜', '그', '임', '포스터']\n"
     ]
    }
   ],
   "source": [
    "# 추출된 품사가 있는 리스트에서 명사만 추출해서 리스트로 만들기 == > 긍정\n",
    "noun_comment_pos = []\n",
    "for item in pos_comment_pos:\n",
    "    for word, pos in item:\n",
    "        if pos == 'Noun': # 추출된 품사 리스트에서 Noun에 해당하는 값만 명사리스트에 저장\n",
    "            noun_comment_pos.append(word)\n",
    "            \n",
    "print(noun_comment_pos[:100])"
   ]
  },
  {
   "cell_type": "code",
   "execution_count": 22,
   "metadata": {},
   "outputs": [
    {
     "name": "stdout",
     "output_type": "stream",
     "text": [
      "['그림', '체고', '배틀로얄', '림', '도깨비', '때', '음성', '지원', '누', '이지혜', '우리엄마', '이름', '생명체', '를', '죽', '벌레', '턱', '해', '지혜', '소설', '처', '왜', '고구마', '애초', '저', '상황', '군인', '나발', '누구', '말', '리가', '사실', '서로', '죽', '거', '깨', '비야', '왜', '그림', '작가', '내', '상상', '걸', '벌레', '지하철', '꼬마', '벌레', '바보', '내', '생각', '거', '흠', '그림', '작가', '내', '상상', '그대로', '생명체', '그', '귀뚜라미', '본보기', '애', '무슨', '죄', '이지혜', '얘', '뭔가', '주연', '삘', '스터리', '질질', '남', '주가', '내용', '건', '것', '도안', '독자', '내용', '베댓', '소설', '얘기', '장창', '독자', '십년', '전', '소설', '어캐', '기억', '임', '빆', '기억', '소유자', '은밀', '모략', '전', '장수풍뎅이', '생명체', '거', '벌레']\n"
     ]
    }
   ],
   "source": [
    "# 추출된 품사가 있는 리스트에서 명사만 추출해서 리스트로 만들기 == > 부정\n",
    "noun_comment_neg = []\n",
    "for item in pos_comment_neg:\n",
    "    for word, pos in item:\n",
    "        if pos == 'Noun': # 추출된 품사 리스트에서 Noun에 해당하는 값만 명사리스트에 저장\n",
    "            noun_comment_neg.append(word)\n",
    "            \n",
    "print(noun_comment_neg[:100])"
   ]
  },
  {
   "cell_type": "code",
   "execution_count": 23,
   "metadata": {},
   "outputs": [
    {
     "name": "stdout",
     "output_type": "stream",
     "text": [
      "['독자', '스포', '소설', '웹툰', '독시', '중혁', '사랑', '사람', '생각', '작가', '보고', '도깨비', '우리', '다음', '성좌']\n",
      "[8235, 6497, 6401, 4338, 3417, 3266, 3119, 2377, 2247, 2014, 1915, 1679, 1594, 1462, 1401]\n"
     ]
    }
   ],
   "source": [
    "# 명사 리스트에서 빈도수를 확인해서 탑 30개만 추출 \n",
    "# 자주 사용하는 명사 중에서 특정 명사 제거하기위한 리스트 == > 긍정\n",
    "stopwords = ['이제','습습', '니니', '난', '나', '나', '아무', '안', '게', '거', '진짜', '놈', '이', '개','혹시', '저','땜', '왜','좀','뭐','그냥']\n",
    "count = Counter(noun_comment_pos)\n",
    "return_contents_pos = []\n",
    "return_count_pos = []\n",
    "\n",
    "stop_flag = True\n",
    "# 빈도수가 가장 높은 30개 추출\n",
    "for n, c in count.most_common(30):  \n",
    "    temp = {'tag': n, 'count': c}\n",
    "    for stopword in stopwords :\n",
    "        # 불용어가 존재하면 \n",
    "        if (stopword == n) : \n",
    "            stop_flag = False \n",
    "            break\n",
    "    #불용어가 포함되어 있지 않으면\n",
    "    if (stop_flag == True):\n",
    "        if len(n) > 1: #글자 수가 1 이상인 명사만 추출\n",
    "            return_contents_pos.append(n)\n",
    "            return_count_pos.append(c)\n",
    "            \n",
    "    stop_flag =True\n",
    "\n",
    "print(return_contents_pos)\n",
    "print(return_count_pos)"
   ]
  },
  {
   "cell_type": "code",
   "execution_count": 24,
   "metadata": {},
   "outputs": [
    {
     "name": "stdout",
     "output_type": "stream",
     "text": [
      "['독자', '소설', '중혁', '웹툰', '스포', '작가', '사람', '댓글', '주인공', '독시', '쿠키', '얼굴', '생각', '성좌', '도깨비']\n",
      "[10954, 6867, 4463, 4450, 3966, 3576, 3212, 2943, 2251, 2150, 2007, 1925, 1913, 1907, 1773]\n"
     ]
    }
   ],
   "source": [
    "# 명사 리스트에서 빈도수를 확인해서 탑 30개만 추출 \n",
    "# 자주 사용하는 명사 중에서 특정 명사 제거하기위한 리스트 == > 부정\n",
    "stopwords = ['이제','습습', '니니', '난', '나', '나', '아무', '안', '게', '거', '진짜', '놈', '이', '개','혹시', '저','땜', '왜','좀','뭐','그냥']\n",
    "count = Counter(noun_comment_neg)\n",
    "return_contents_neg = []\n",
    "return_count_neg = []\n",
    "\n",
    "stop_flag = True\n",
    "# 빈도수가 가장 높은 30개 추출\n",
    "for n, c in count.most_common(30):  \n",
    "    temp = {'tag': n, 'count': c}\n",
    "    for stopword in stopwords :\n",
    "        # 불용어가 존재하면 \n",
    "        if (stopword == n) : \n",
    "            stop_flag = False \n",
    "            break\n",
    "    #불용어가 포함되어 있지 않으면\n",
    "    if (stop_flag == True):\n",
    "        if len(n) > 1: #글자 수가 1 이상인 명사만 추출\n",
    "            return_contents_neg.append(n)\n",
    "            return_count_neg.append(c)\n",
    "            \n",
    "    stop_flag =True\n",
    "\n",
    "print(return_contents_neg)\n",
    "print(return_count_neg)"
   ]
  },
  {
   "cell_type": "markdown",
   "metadata": {},
   "source": [
    "## ========================================\n",
    "# 시각화\n",
    "## 댓글 키워드 빈도수에 따른 막대 그래프"
   ]
  },
  {
   "cell_type": "code",
   "execution_count": 26,
   "metadata": {},
   "outputs": [
    {
     "data": {
      "image/png": "[encoded data removed]",
      "text/plain": [
       "<Figure size 432x288 with 1 Axes>"
      ]
     },
     "metadata": {
      "needs_background": "light"
     },
     "output_type": "display_data"
    }
   ],
   "source": [
    "# 키워드 빈도수에 따른 막대 그래프 만들기 == > 긍정\n",
    "import matplotlib.pyplot as plt\n",
    "\n",
    "from matplotlib import font_manager, rc\n",
    "font_name = font_manager.FontProperties(fname=\"c:/Windows/Fonts/malgun.ttf\").get_name()\n",
    "rc('font', family=font_name) #한글 사용을 위해 => 그냥 사용시 한글이 꺠짐\n",
    "\n",
    "x = np.arange(len(return_contents_pos))\n",
    "\n",
    "plt.bar(x, return_count_pos, color ='blue', width = 0.8)\n",
    "plt.xticks(x, return_contents_pos)\n",
    "plt.show()"
   ]
  },
  {
   "cell_type": "code",
   "execution_count": 27,
   "metadata": {},
   "outputs": [
    {
     "data": {
      "image/png": "[encoded data removed]",
      "text/plain": [
       "<Figure size 432x288 with 1 Axes>"
      ]
     },
     "metadata": {
      "needs_background": "light"
     },
     "output_type": "display_data"
    }
   ],
   "source": [
    "# 키워드 빈도수에 따른 막대 그래프 만들기 == > 부정\n",
    "import matplotlib.pyplot as plt\n",
    "\n",
    "from matplotlib import font_manager, rc\n",
    "font_name = font_manager.FontProperties(fname=\"c:/Windows/Fonts/malgun.ttf\").get_name()\n",
    "rc('font', family=font_name) #한글 사용을 위해 => 그냥 사용시 한글이 꺠짐\n",
    "\n",
    "x = np.arange(len(return_contents_neg))\n",
    "\n",
    "plt.bar(x, return_count_neg, color ='red', width = 0.8)\n",
    "plt.xticks(x, return_contents_neg)\n",
    "plt.show()"
   ]
  },
  {
   "cell_type": "code",
   "execution_count": null,
   "metadata": {},
   "outputs": [],
   "source": []
  }
 ],
 "metadata": {
  "kernelspec": {
   "display_name": "Python 3",
   "language": "python",
   "name": "python3"
  },
  "language_info": {
   "codemirror_mode": {
    "name": "ipython",
    "version": 3
   },
   "file_extension": ".py",
   "mimetype": "text/x-python",
   "name": "python",
   "nbconvert_exporter": "python",
   "pygments_lexer": "ipython3",
   "version": "3.8.3"
  }
 },
 "nbformat": 4,
 "nbformat_minor": 4
}
