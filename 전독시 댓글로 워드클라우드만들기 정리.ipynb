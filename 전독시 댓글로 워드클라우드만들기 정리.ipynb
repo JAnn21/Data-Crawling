{
 "cells": [
  {
   "cell_type": "code",
   "execution_count": 1,
   "metadata": {},
   "outputs": [],
   "source": [
    "import pandas as pd\n",
    "import numpy as np\n",
    "import matplotlib.pyplot as plt\n",
    "from konlpy.tag import Okt\n",
    "from collections import Counter\n",
    "from wordcloud import WordCloud\n",
    "from multiprocessing import freeze_support\n",
    "from collections import Counter"
   ]
  },
  {
   "cell_type": "markdown",
   "metadata": {},
   "source": [
    "# 데이터정리"
   ]
  },
  {
   "cell_type": "code",
   "execution_count": 2,
   "metadata": {},
   "outputs": [],
   "source": [
    "data=pd.read_csv('comment_all_전독시.csv', encoding='utf-8-sig', engine='python')\n",
    "del data['Unnamed: 0']\n",
    "data.rename(columns = {'0' : 'comment'}, inplace = True) # inplace = True이거 안하고 하면 키로 인식이 되지 않는듯"
   ]
  },
  {
   "cell_type": "code",
   "execution_count": null,
   "metadata": {},
   "outputs": [],
   "source": [
    "# 중복 , 널값, 특수문자 제거"
   ]
  },
  {
   "cell_type": "code",
   "execution_count": 3,
   "metadata": {},
   "outputs": [
    {
     "name": "stdout",
     "output_type": "stream",
     "text": [
      "댓글 개수 : 122962\n"
     ]
    },
    {
     "data": {
      "text/plain": [
       "118234"
      ]
     },
     "execution_count": 3,
     "metadata": {},
     "output_type": "execute_result"
    }
   ],
   "source": [
    "print('댓글 개수 :',len(data))\n",
    "data['comment'].nunique() # 중복인 것 4000개정도"
   ]
  },
  {
   "cell_type": "code",
   "execution_count": 4,
   "metadata": {},
   "outputs": [
    {
     "name": "stdout",
     "output_type": "stream",
     "text": [
      "총 댓글 수 : 118234\n"
     ]
    }
   ],
   "source": [
    "data.drop_duplicates(subset=['comment'], inplace=True) #중복삭제\n",
    "print('총 댓글 수 :',len(data))"
   ]
  },
  {
   "cell_type": "code",
   "execution_count": 5,
   "metadata": {},
   "outputs": [
    {
     "data": {
      "text/html": [
       "<div>\n",
       "<style scoped>\n",
       "    .dataframe tbody tr th:only-of-type {\n",
       "        vertical-align: middle;\n",
       "    }\n",
       "\n",
       "    .dataframe tbody tr th {\n",
       "        vertical-align: top;\n",
       "    }\n",
       "\n",
       "    .dataframe thead th {\n",
       "        text-align: right;\n",
       "    }\n",
       "</style>\n",
       "<table border=\"1\" class=\"dataframe\">\n",
       "  <thead>\n",
       "    <tr style=\"text-align: right;\">\n",
       "      <th></th>\n",
       "      <th>comment</th>\n",
       "    </tr>\n",
       "  </thead>\n",
       "  <tbody>\n",
       "    <tr>\n",
       "      <th>340</th>\n",
       "      <td>NaN</td>\n",
       "    </tr>\n",
       "    <tr>\n",
       "      <th>421</th>\n",
       "      <td>NaN</td>\n",
       "    </tr>\n",
       "    <tr>\n",
       "      <th>512</th>\n",
       "      <td>NaN</td>\n",
       "    </tr>\n",
       "    <tr>\n",
       "      <th>674</th>\n",
       "      <td>NaN</td>\n",
       "    </tr>\n",
       "    <tr>\n",
       "      <th>871</th>\n",
       "      <td>NaN</td>\n",
       "    </tr>\n",
       "    <tr>\n",
       "      <th>1514</th>\n",
       "      <td>NaN</td>\n",
       "    </tr>\n",
       "    <tr>\n",
       "      <th>1856</th>\n",
       "      <td>NaN</td>\n",
       "    </tr>\n",
       "    <tr>\n",
       "      <th>2073</th>\n",
       "      <td>NaN</td>\n",
       "    </tr>\n",
       "    <tr>\n",
       "      <th>2076</th>\n",
       "      <td>NaN</td>\n",
       "    </tr>\n",
       "    <tr>\n",
       "      <th>2082</th>\n",
       "      <td>NaN</td>\n",
       "    </tr>\n",
       "    <tr>\n",
       "      <th>2084</th>\n",
       "      <td>NaN</td>\n",
       "    </tr>\n",
       "    <tr>\n",
       "      <th>2451</th>\n",
       "      <td>NaN</td>\n",
       "    </tr>\n",
       "    <tr>\n",
       "      <th>2534</th>\n",
       "      <td>NaN</td>\n",
       "    </tr>\n",
       "    <tr>\n",
       "      <th>2582</th>\n",
       "      <td>NaN</td>\n",
       "    </tr>\n",
       "    <tr>\n",
       "      <th>2732</th>\n",
       "      <td>NaN</td>\n",
       "    </tr>\n",
       "    <tr>\n",
       "      <th>2919</th>\n",
       "      <td>NaN</td>\n",
       "    </tr>\n",
       "    <tr>\n",
       "      <th>3215</th>\n",
       "      <td>NaN</td>\n",
       "    </tr>\n",
       "    <tr>\n",
       "      <th>3340</th>\n",
       "      <td>NaN</td>\n",
       "    </tr>\n",
       "    <tr>\n",
       "      <th>3528</th>\n",
       "      <td>NaN</td>\n",
       "    </tr>\n",
       "    <tr>\n",
       "      <th>3529</th>\n",
       "      <td>NaN</td>\n",
       "    </tr>\n",
       "    <tr>\n",
       "      <th>4188</th>\n",
       "      <td>NaN</td>\n",
       "    </tr>\n",
       "    <tr>\n",
       "      <th>5707</th>\n",
       "      <td>NaN</td>\n",
       "    </tr>\n",
       "    <tr>\n",
       "      <th>5712</th>\n",
       "      <td>NaN</td>\n",
       "    </tr>\n",
       "    <tr>\n",
       "      <th>5771</th>\n",
       "      <td>NaN</td>\n",
       "    </tr>\n",
       "    <tr>\n",
       "      <th>5782</th>\n",
       "      <td>NaN</td>\n",
       "    </tr>\n",
       "    <tr>\n",
       "      <th>6358</th>\n",
       "      <td>NaN</td>\n",
       "    </tr>\n",
       "    <tr>\n",
       "      <th>6564</th>\n",
       "      <td>NaN</td>\n",
       "    </tr>\n",
       "    <tr>\n",
       "      <th>7305</th>\n",
       "      <td>NaN</td>\n",
       "    </tr>\n",
       "    <tr>\n",
       "      <th>7311</th>\n",
       "      <td>NaN</td>\n",
       "    </tr>\n",
       "    <tr>\n",
       "      <th>7421</th>\n",
       "      <td>NaN</td>\n",
       "    </tr>\n",
       "    <tr>\n",
       "      <th>...</th>\n",
       "      <td>...</td>\n",
       "    </tr>\n",
       "    <tr>\n",
       "      <th>112803</th>\n",
       "      <td>NaN</td>\n",
       "    </tr>\n",
       "    <tr>\n",
       "      <th>112959</th>\n",
       "      <td>NaN</td>\n",
       "    </tr>\n",
       "    <tr>\n",
       "      <th>113118</th>\n",
       "      <td>NaN</td>\n",
       "    </tr>\n",
       "    <tr>\n",
       "      <th>113527</th>\n",
       "      <td>NaN</td>\n",
       "    </tr>\n",
       "    <tr>\n",
       "      <th>114345</th>\n",
       "      <td>NaN</td>\n",
       "    </tr>\n",
       "    <tr>\n",
       "      <th>115031</th>\n",
       "      <td>NaN</td>\n",
       "    </tr>\n",
       "    <tr>\n",
       "      <th>115397</th>\n",
       "      <td>NaN</td>\n",
       "    </tr>\n",
       "    <tr>\n",
       "      <th>116002</th>\n",
       "      <td>NaN</td>\n",
       "    </tr>\n",
       "    <tr>\n",
       "      <th>116103</th>\n",
       "      <td>NaN</td>\n",
       "    </tr>\n",
       "    <tr>\n",
       "      <th>116177</th>\n",
       "      <td>NaN</td>\n",
       "    </tr>\n",
       "    <tr>\n",
       "      <th>116595</th>\n",
       "      <td>NaN</td>\n",
       "    </tr>\n",
       "    <tr>\n",
       "      <th>116636</th>\n",
       "      <td>NaN</td>\n",
       "    </tr>\n",
       "    <tr>\n",
       "      <th>117168</th>\n",
       "      <td>NaN</td>\n",
       "    </tr>\n",
       "    <tr>\n",
       "      <th>117841</th>\n",
       "      <td>NaN</td>\n",
       "    </tr>\n",
       "    <tr>\n",
       "      <th>118005</th>\n",
       "      <td>NaN</td>\n",
       "    </tr>\n",
       "    <tr>\n",
       "      <th>118826</th>\n",
       "      <td>NaN</td>\n",
       "    </tr>\n",
       "    <tr>\n",
       "      <th>120523</th>\n",
       "      <td>NaN</td>\n",
       "    </tr>\n",
       "    <tr>\n",
       "      <th>120532</th>\n",
       "      <td>NaN</td>\n",
       "    </tr>\n",
       "    <tr>\n",
       "      <th>120662</th>\n",
       "      <td>NaN</td>\n",
       "    </tr>\n",
       "    <tr>\n",
       "      <th>120849</th>\n",
       "      <td>NaN</td>\n",
       "    </tr>\n",
       "    <tr>\n",
       "      <th>120879</th>\n",
       "      <td>NaN</td>\n",
       "    </tr>\n",
       "    <tr>\n",
       "      <th>120948</th>\n",
       "      <td>NaN</td>\n",
       "    </tr>\n",
       "    <tr>\n",
       "      <th>120966</th>\n",
       "      <td>NaN</td>\n",
       "    </tr>\n",
       "    <tr>\n",
       "      <th>121456</th>\n",
       "      <td>NaN</td>\n",
       "    </tr>\n",
       "    <tr>\n",
       "      <th>121553</th>\n",
       "      <td>NaN</td>\n",
       "    </tr>\n",
       "    <tr>\n",
       "      <th>121655</th>\n",
       "      <td>NaN</td>\n",
       "    </tr>\n",
       "    <tr>\n",
       "      <th>122578</th>\n",
       "      <td>NaN</td>\n",
       "    </tr>\n",
       "    <tr>\n",
       "      <th>122693</th>\n",
       "      <td>NaN</td>\n",
       "    </tr>\n",
       "    <tr>\n",
       "      <th>122711</th>\n",
       "      <td>NaN</td>\n",
       "    </tr>\n",
       "    <tr>\n",
       "      <th>122820</th>\n",
       "      <td>NaN</td>\n",
       "    </tr>\n",
       "  </tbody>\n",
       "</table>\n",
       "<p>316 rows × 1 columns</p>\n",
       "</div>"
      ],
      "text/plain": [
       "       comment\n",
       "340        NaN\n",
       "421        NaN\n",
       "512        NaN\n",
       "674        NaN\n",
       "871        NaN\n",
       "1514       NaN\n",
       "1856       NaN\n",
       "2073       NaN\n",
       "2076       NaN\n",
       "2082       NaN\n",
       "2084       NaN\n",
       "2451       NaN\n",
       "2534       NaN\n",
       "2582       NaN\n",
       "2732       NaN\n",
       "2919       NaN\n",
       "3215       NaN\n",
       "3340       NaN\n",
       "3528       NaN\n",
       "3529       NaN\n",
       "4188       NaN\n",
       "5707       NaN\n",
       "5712       NaN\n",
       "5771       NaN\n",
       "5782       NaN\n",
       "6358       NaN\n",
       "6564       NaN\n",
       "7305       NaN\n",
       "7311       NaN\n",
       "7421       NaN\n",
       "...        ...\n",
       "112803     NaN\n",
       "112959     NaN\n",
       "113118     NaN\n",
       "113527     NaN\n",
       "114345     NaN\n",
       "115031     NaN\n",
       "115397     NaN\n",
       "116002     NaN\n",
       "116103     NaN\n",
       "116177     NaN\n",
       "116595     NaN\n",
       "116636     NaN\n",
       "117168     NaN\n",
       "117841     NaN\n",
       "118005     NaN\n",
       "118826     NaN\n",
       "120523     NaN\n",
       "120532     NaN\n",
       "120662     NaN\n",
       "120849     NaN\n",
       "120879     NaN\n",
       "120948     NaN\n",
       "120966     NaN\n",
       "121456     NaN\n",
       "121553     NaN\n",
       "121655     NaN\n",
       "122578     NaN\n",
       "122693     NaN\n",
       "122711     NaN\n",
       "122820     NaN\n",
       "\n",
       "[316 rows x 1 columns]"
      ]
     },
     "execution_count": 5,
     "metadata": {},
     "output_type": "execute_result"
    }
   ],
   "source": [
    "data['comment'] = data['comment'].str.replace(\"[^ㄱ-ㅎㅏ-ㅣ가-힣 ]\",\"\")# 한글과 공백을 제외하고 모두 제거\n",
    "data['comment'].replace('', np.nan, inplace=True)# 널값 제거하기 위해 빈 칸은 널값을 넣어주고 개수 확인하기\n",
    "data.loc[data.comment.isnull()] # null값이 있는 위치 "
   ]
  },
  {
   "cell_type": "code",
   "execution_count": 6,
   "metadata": {},
   "outputs": [],
   "source": [
    "data = data.dropna(how = 'any') # Null 값이 존재하는 행 제거"
   ]
  },
  {
   "cell_type": "code",
   "execution_count": null,
   "metadata": {},
   "outputs": [],
   "source": []
  },
  {
   "cell_type": "markdown",
   "metadata": {},
   "source": [
    "# 품사 정보 부착"
   ]
  },
  {
   "cell_type": "code",
   "execution_count": 7,
   "metadata": {},
   "outputs": [],
   "source": [
    "okt = Okt()"
   ]
  },
  {
   "cell_type": "code",
   "execution_count": 8,
   "metadata": {},
   "outputs": [
    {
     "name": "stdout",
     "output_type": "stream",
     "text": [
      "[('하루', 'Noun'), ('에', 'Josa'), ('코인', 'Noun'), ('지불', 'Noun'), ('하다', 'Verb'), ('되다', 'Verb'), ('보상', 'Noun'), ('은', 'Josa'), ('코인', 'Noun'), ('에', 'Josa'), ('난이도', 'Noun'), ('급', 'Noun'), ('인', 'Josa'), ('일간', 'Noun'), ('지속', 'Noun'), ('되다', 'Verb'), ('시나리오', 'Noun'), ('말', 'Noun'), ('이', 'Josa'), ('되다', 'Verb'), ('건가', 'Noun')]\n"
     ]
    }
   ],
   "source": [
    "pos_comment = []\n",
    "for comment in data['comment']:\n",
    "    pos_temp = okt.pos(comment, norm=True, stem=True)\n",
    "    pos_comment.append(pos_temp)\n",
    "    \n",
    "print(pos_comment[3])"
   ]
  },
  {
   "cell_type": "code",
   "execution_count": 9,
   "metadata": {},
   "outputs": [
    {
     "name": "stdout",
     "output_type": "stream",
     "text": [
      "['낄낄', '거린', '사람', '손', '유', '중혁', '김', '독자', '케미', '티키타카', '최고', '임', '하루', '코인', '지불', '보상', '코인', '난이도', '급', '일간', '지속', '시나리오', '말', '건가', '여러분', '누가', '좀', '기절', '개월', '뒤', '거', '진짜', '시즌', '진짜', '유', '중혁', '주인공', '만화', '시즌', '김', '독자', '만화', '지하철', '다가', '사건', '진짜', '더', '성좌', '반응', '때', '젤', '지혜', '표정', '성좌', '주인공', '절대', '인간', '독자', '무기', '준비', '싸움', '아주', '싸움', '유', '중혁', '회귀', '여기', '사람', '임', '유', '중혁', '사람', '안', '뭐', '미래', '사람', '막', '갑자기', '궁금', '우리', '중혁', '때', '싸이코', '페스', '스포', '저건', '회', '차야', '중혁', '무림', '만두', '성장', '속도', '회', '때문', '베뎃', '개', '유', '중혁', '개끼']\n"
     ]
    }
   ],
   "source": [
    "# 명사 추출 확인\n",
    "pos_comment_noun = []\n",
    "for item in pos_comment:\n",
    "    for word, pos in item:\n",
    "        if pos == 'Noun':  # 명사만 추출\n",
    "            pos_comment_noun.append(word)\n",
    "\n",
    "print(pos_comment_noun[:100])"
   ]
  },
  {
   "cell_type": "code",
   "execution_count": 35,
   "metadata": {},
   "outputs": [
    {
     "name": "stdout",
     "output_type": "stream",
     "text": [
      "['독자', '소설', '스포', '웹툰', '중혁', '독시', '작가', '댓글', '생각', '도깨비', '사랑', '성좌', '보고', '주인공']\n",
      "[19236, 13257, 10568, 8796, 7776, 5608, 5593, 4186, 4162, 3468, 3356, 3305, 3254, 3131]\n"
     ]
    }
   ],
   "source": [
    "# 명사 개수확인\n",
    "stopwords = ['진짜', '존나', '좀', '정말', '왜', '그냥', '것', '개', '뭐', '사람', '놈', '너', '걍', '잘', '임', '제발']\n",
    "count = Counter(pos_comment_noun)\n",
    "return_contents = []\n",
    "return_count = []\n",
    "\n",
    "stop_flag = True # 초기에 True로 설정\n",
    "for n, c in count.most_common(30):  # 탑 30 명사만 추출\n",
    "    temp = {'tag': n, 'count': c}\n",
    "    for stopword in stopwords :\n",
    "        if (stopword == n) : # 불용어와 같다면 \n",
    "            stop_flag = False \n",
    "            break\n",
    "    if stop_flag == True : # 위에 if문에 걸리지 않았다는 것은 지정된 불용어와 같지 않다는 뜻으로 True일 것.\n",
    "        if len(n) > 1 : # 두 글자 이상이면\n",
    "            return_contents.append(n)\n",
    "            return_count.append(c)\n",
    "        \n",
    "    stop_flag = True\n",
    "\n",
    "# 자주 나오는 단어들 중 불용어가 아니고, 두 글자 이상인 것들\n",
    "print(return_contents)\n",
    "print(return_count)"
   ]
  },
  {
   "cell_type": "code",
   "execution_count": 11,
   "metadata": {},
   "outputs": [],
   "source": [
    "import matplotlib.pyplot as plt"
   ]
  },
  {
   "cell_type": "code",
   "execution_count": 47,
   "metadata": {},
   "outputs": [
    {
     "data": {
      "image/png": "[encoded data removed]",
      "text/plain": [
       "<Figure size 432x288 with 1 Axes>"
      ]
     },
     "metadata": {
      "needs_background": "light"
     },
     "output_type": "display_data"
    }
   ],
   "source": [
    "from matplotlib import font_manager, rc\n",
    "font_name = font_manager.FontProperties(fname=\"c:/Windows/Fonts/malgun.ttf\").get_name()\n",
    "rc('font', family=font_name)\n",
    "\n",
    "x = np.arange(len(return_contents))\n",
    "\n",
    "plt.bar(x, return_count, color ='red', width = 0.4)\n",
    "plt.xticks(x, return_contents)\n",
    "plt.show()"
   ]
  },
  {
   "cell_type": "markdown",
   "metadata": {},
   "source": [
    "# 명사 클라우드 확인"
   ]
  },
  {
   "cell_type": "code",
   "execution_count": 11,
   "metadata": {},
   "outputs": [],
   "source": [
    "str_noun_words = ','.join(pos_comment_noun)\n",
    "FONT_PATH = 'C:/Windows/Fonts/malgun.ttf'"
   ]
  },
  {
   "cell_type": "code",
   "execution_count": 12,
   "metadata": {},
   "outputs": [],
   "source": [
    "stopwords = ['진짜', '존나', '좀', '정말', '왜', '그냥', '것', '개', '뭐', '사람', '놈', '너', '걍', '잘', '임', '제발']"
   ]
  },
  {
   "cell_type": "code",
   "execution_count": 15,
   "metadata": {},
   "outputs": [
    {
     "data": {
      "image/png": "[encoded data removed]",
      "text/plain": [
       "<Figure size 432x288 with 1 Axes>"
      ]
     },
     "metadata": {
      "needs_background": "light"
     },
     "output_type": "display_data"
    }
   ],
   "source": [
    "wordcloud = WordCloud(collocation_threshold =30, max_font_size=60, stopwords=stopwords, background_color=\"white\", font_path=FONT_PATH).generate(str_noun_words)\n",
    "\n",
    "plt.figure()\n",
    "plt.imshow(wordcloud, interpolation='bilinear') # 가장 간단한 방법인 bilinear(Nearest는 화질이 떨어짐)\n",
    "plt.axis(\"off\")\n",
    "plt.show()"
   ]
  },
  {
   "cell_type": "code",
   "execution_count": null,
   "metadata": {},
   "outputs": [],
   "source": []
  }
 ],
 "metadata": {
  "kernelspec": {
   "display_name": "Python 3",
   "language": "python",
   "name": "python3"
  },
  "language_info": {
   "codemirror_mode": {
    "name": "ipython",
    "version": 3
   },
   "file_extension": ".py",
   "mimetype": "text/x-python",
   "name": "python",
   "nbconvert_exporter": "python",
   "pygments_lexer": "ipython3",
   "version": "3.8.3"
  }
 },
 "nbformat": 4,
 "nbformat_minor": 4
}
