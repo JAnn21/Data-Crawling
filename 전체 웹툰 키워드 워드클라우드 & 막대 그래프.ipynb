{
 "cells": [
  {
   "cell_type": "markdown",
   "metadata": {},
   "source": [
    "# 전체 웹툰 댓글 키워드 분석"
   ]
  },
  {
   "cell_type": "markdown",
   "metadata": {},
   "source": [
    "## 데이터 준비 및 탐색"
   ]
  },
  {
   "cell_type": "code",
   "execution_count": 1,
   "metadata": {},
   "outputs": [],
   "source": [
    "import pandas as pd\n",
    "import numpy as np\n",
    "import matplotlib.pyplot as plt\n",
    "from konlpy.tag import Okt\n",
    "from collections import Counter\n",
    "from wordcloud import WordCloud\n",
    "from multiprocessing import freeze_support\n",
    "from collections import Counter"
   ]
  },
  {
   "cell_type": "code",
   "execution_count": 10,
   "metadata": {},
   "outputs": [],
   "source": [
    "data = pd.read_csv('comment_all.csv', encoding='utf-8-sig', engine='python')"
   ]
  },
  {
   "cell_type": "code",
   "execution_count": 12,
   "metadata": {},
   "outputs": [
    {
     "data": {
      "text/html": [
       "<div>\n",
       "<style scoped>\n",
       "    .dataframe tbody tr th:only-of-type {\n",
       "        vertical-align: middle;\n",
       "    }\n",
       "\n",
       "    .dataframe tbody tr th {\n",
       "        vertical-align: top;\n",
       "    }\n",
       "\n",
       "    .dataframe thead th {\n",
       "        text-align: right;\n",
       "    }\n",
       "</style>\n",
       "<table border=\"1\" class=\"dataframe\">\n",
       "  <thead>\n",
       "    <tr style=\"text-align: right;\">\n",
       "      <th></th>\n",
       "      <th>Unnamed: 0</th>\n",
       "      <th>comment</th>\n",
       "      <th>webtoon_name</th>\n",
       "      <th>webtoon_num</th>\n",
       "    </tr>\n",
       "  </thead>\n",
       "  <tbody>\n",
       "    <tr>\n",
       "      <th>0</th>\n",
       "      <td>0</td>\n",
       "      <td>인생존망 재밌었다👍 재미 없었다👎</td>\n",
       "      <td>인생존망</td>\n",
       "      <td>733766</td>\n",
       "    </tr>\n",
       "    <tr>\n",
       "      <th>1</th>\n",
       "      <td>1</td>\n",
       "      <td>워싱 칭따오</td>\n",
       "      <td>인생존망</td>\n",
       "      <td>733766</td>\n",
       "    </tr>\n",
       "    <tr>\n",
       "      <th>2</th>\n",
       "      <td>2</td>\n",
       "      <td>이제 시즌2 가시죠</td>\n",
       "      <td>인생존망</td>\n",
       "      <td>733766</td>\n",
       "    </tr>\n",
       "    <tr>\n",
       "      <th>3</th>\n",
       "      <td>3</td>\n",
       "      <td>수수고고하하셨셨습습니니다다</td>\n",
       "      <td>인생존망</td>\n",
       "      <td>733766</td>\n",
       "    </tr>\n",
       "    <tr>\n",
       "      <th>4</th>\n",
       "      <td>4</td>\n",
       "      <td>형 난 다 읽었는데 나만 다 읽은거 아니징..?</td>\n",
       "      <td>인생존망</td>\n",
       "      <td>733766</td>\n",
       "    </tr>\n",
       "  </tbody>\n",
       "</table>\n",
       "</div>"
      ],
      "text/plain": [
       "   Unnamed: 0                     comment webtoon_name  webtoon_num\n",
       "0           0          인생존망 재밌었다👍 재미 없었다👎         인생존망       733766\n",
       "1           1                      워싱 칭따오         인생존망       733766\n",
       "2           2                  이제 시즌2 가시죠         인생존망       733766\n",
       "3           3              수수고고하하셨셨습습니니다다         인생존망       733766\n",
       "4           4  형 난 다 읽었는데 나만 다 읽은거 아니징..?         인생존망       733766"
      ]
     },
     "execution_count": 12,
     "metadata": {},
     "output_type": "execute_result"
    }
   ],
   "source": [
    "data.head()"
   ]
  },
  {
   "cell_type": "code",
   "execution_count": 13,
   "metadata": {},
   "outputs": [],
   "source": [
    "# Unnamed: 0  열 제거\n",
    "del data['Unnamed: 0']"
   ]
  },
  {
   "cell_type": "code",
   "execution_count": 14,
   "metadata": {},
   "outputs": [
    {
     "data": {
      "text/html": [
       "<div>\n",
       "<style scoped>\n",
       "    .dataframe tbody tr th:only-of-type {\n",
       "        vertical-align: middle;\n",
       "    }\n",
       "\n",
       "    .dataframe tbody tr th {\n",
       "        vertical-align: top;\n",
       "    }\n",
       "\n",
       "    .dataframe thead th {\n",
       "        text-align: right;\n",
       "    }\n",
       "</style>\n",
       "<table border=\"1\" class=\"dataframe\">\n",
       "  <thead>\n",
       "    <tr style=\"text-align: right;\">\n",
       "      <th></th>\n",
       "      <th>comment</th>\n",
       "      <th>webtoon_name</th>\n",
       "      <th>webtoon_num</th>\n",
       "    </tr>\n",
       "  </thead>\n",
       "  <tbody>\n",
       "    <tr>\n",
       "      <th>0</th>\n",
       "      <td>인생존망 재밌었다👍 재미 없었다👎</td>\n",
       "      <td>인생존망</td>\n",
       "      <td>733766</td>\n",
       "    </tr>\n",
       "    <tr>\n",
       "      <th>1</th>\n",
       "      <td>워싱 칭따오</td>\n",
       "      <td>인생존망</td>\n",
       "      <td>733766</td>\n",
       "    </tr>\n",
       "    <tr>\n",
       "      <th>2</th>\n",
       "      <td>이제 시즌2 가시죠</td>\n",
       "      <td>인생존망</td>\n",
       "      <td>733766</td>\n",
       "    </tr>\n",
       "    <tr>\n",
       "      <th>3</th>\n",
       "      <td>수수고고하하셨셨습습니니다다</td>\n",
       "      <td>인생존망</td>\n",
       "      <td>733766</td>\n",
       "    </tr>\n",
       "    <tr>\n",
       "      <th>4</th>\n",
       "      <td>형 난 다 읽었는데 나만 다 읽은거 아니징..?</td>\n",
       "      <td>인생존망</td>\n",
       "      <td>733766</td>\n",
       "    </tr>\n",
       "  </tbody>\n",
       "</table>\n",
       "</div>"
      ],
      "text/plain": [
       "                      comment webtoon_name  webtoon_num\n",
       "0          인생존망 재밌었다👍 재미 없었다👎         인생존망       733766\n",
       "1                      워싱 칭따오         인생존망       733766\n",
       "2                  이제 시즌2 가시죠         인생존망       733766\n",
       "3              수수고고하하셨셨습습니니다다         인생존망       733766\n",
       "4  형 난 다 읽었는데 나만 다 읽은거 아니징..?         인생존망       733766"
      ]
     },
     "execution_count": 14,
     "metadata": {},
     "output_type": "execute_result"
    }
   ],
   "source": [
    "data.head()"
   ]
  },
  {
   "cell_type": "code",
   "execution_count": 15,
   "metadata": {},
   "outputs": [
    {
     "name": "stdout",
     "output_type": "stream",
     "text": [
      "댓글 개수 :  79951\n"
     ]
    }
   ],
   "source": [
    "print('댓글 개수 : ',len(data))"
   ]
  },
  {
   "cell_type": "code",
   "execution_count": 16,
   "metadata": {},
   "outputs": [
    {
     "data": {
      "text/plain": [
       "76040"
      ]
     },
     "execution_count": 16,
     "metadata": {},
     "output_type": "execute_result"
    }
   ],
   "source": [
    "# data에서 중복인 것 찾기\n",
    "data['comment'].nunique()"
   ]
  },
  {
   "cell_type": "code",
   "execution_count": 17,
   "metadata": {},
   "outputs": [
    {
     "name": "stdout",
     "output_type": "stream",
     "text": [
      "댓글 개수 :  76040\n"
     ]
    }
   ],
   "source": [
    "# 중복된 값 제거\n",
    "data.drop_duplicates(subset=['comment'], inplace=True)\n",
    "print('댓글 개수 : ',len(data))"
   ]
  },
  {
   "cell_type": "code",
   "execution_count": 20,
   "metadata": {},
   "outputs": [],
   "source": [
    "# 한글 문자 이외의 문자는 공백으로 변환\n",
    "import re\n",
    "data['comment'] = data['comment'].apply(lambda x : re.sub(r'[^ ㄱ-ㅣ가-힣]+', \" \",x))"
   ]
  },
  {
   "cell_type": "code",
   "execution_count": 21,
   "metadata": {},
   "outputs": [
    {
     "data": {
      "text/html": [
       "<div>\n",
       "<style scoped>\n",
       "    .dataframe tbody tr th:only-of-type {\n",
       "        vertical-align: middle;\n",
       "    }\n",
       "\n",
       "    .dataframe tbody tr th {\n",
       "        vertical-align: top;\n",
       "    }\n",
       "\n",
       "    .dataframe thead th {\n",
       "        text-align: right;\n",
       "    }\n",
       "</style>\n",
       "<table border=\"1\" class=\"dataframe\">\n",
       "  <thead>\n",
       "    <tr style=\"text-align: right;\">\n",
       "      <th></th>\n",
       "      <th>comment</th>\n",
       "      <th>webtoon_name</th>\n",
       "      <th>webtoon_num</th>\n",
       "    </tr>\n",
       "  </thead>\n",
       "  <tbody>\n",
       "    <tr>\n",
       "      <th>0</th>\n",
       "      <td>인생존망 재밌었다  재미 없었다</td>\n",
       "      <td>인생존망</td>\n",
       "      <td>733766</td>\n",
       "    </tr>\n",
       "    <tr>\n",
       "      <th>1</th>\n",
       "      <td>워싱 칭따오</td>\n",
       "      <td>인생존망</td>\n",
       "      <td>733766</td>\n",
       "    </tr>\n",
       "    <tr>\n",
       "      <th>2</th>\n",
       "      <td>이제 시즌  가시죠</td>\n",
       "      <td>인생존망</td>\n",
       "      <td>733766</td>\n",
       "    </tr>\n",
       "    <tr>\n",
       "      <th>3</th>\n",
       "      <td>수수고고하하셨셨습습니니다다</td>\n",
       "      <td>인생존망</td>\n",
       "      <td>733766</td>\n",
       "    </tr>\n",
       "    <tr>\n",
       "      <th>4</th>\n",
       "      <td>형 난 다 읽었는데 나만 다 읽은거 아니징</td>\n",
       "      <td>인생존망</td>\n",
       "      <td>733766</td>\n",
       "    </tr>\n",
       "  </tbody>\n",
       "</table>\n",
       "</div>"
      ],
      "text/plain": [
       "                    comment webtoon_name  webtoon_num\n",
       "0        인생존망 재밌었다  재미 없었다          인생존망       733766\n",
       "1                    워싱 칭따오         인생존망       733766\n",
       "2                이제 시즌  가시죠         인생존망       733766\n",
       "3            수수고고하하셨셨습습니니다다         인생존망       733766\n",
       "4  형 난 다 읽었는데 나만 다 읽은거 아니징          인생존망       733766"
      ]
     },
     "execution_count": 21,
     "metadata": {},
     "output_type": "execute_result"
    }
   ],
   "source": [
    "data.head()"
   ]
  },
  {
   "cell_type": "code",
   "execution_count": 27,
   "metadata": {},
   "outputs": [],
   "source": [
    "# 빈칸을 null값으로 설정\n",
    "data['comment'].replace(' ', np.nan, inplace=True)"
   ]
  },
  {
   "cell_type": "code",
   "execution_count": 28,
   "metadata": {},
   "outputs": [
    {
     "data": {
      "text/html": [
       "<div>\n",
       "<style scoped>\n",
       "    .dataframe tbody tr th:only-of-type {\n",
       "        vertical-align: middle;\n",
       "    }\n",
       "\n",
       "    .dataframe tbody tr th {\n",
       "        vertical-align: top;\n",
       "    }\n",
       "\n",
       "    .dataframe thead th {\n",
       "        text-align: right;\n",
       "    }\n",
       "</style>\n",
       "<table border=\"1\" class=\"dataframe\">\n",
       "  <thead>\n",
       "    <tr style=\"text-align: right;\">\n",
       "      <th></th>\n",
       "      <th>comment</th>\n",
       "      <th>webtoon_name</th>\n",
       "      <th>webtoon_num</th>\n",
       "    </tr>\n",
       "  </thead>\n",
       "  <tbody>\n",
       "    <tr>\n",
       "      <th>212</th>\n",
       "      <td>NaN</td>\n",
       "      <td>인생존망</td>\n",
       "      <td>733766</td>\n",
       "    </tr>\n",
       "    <tr>\n",
       "      <th>5207</th>\n",
       "      <td>NaN</td>\n",
       "      <td>윈드브레이커</td>\n",
       "      <td>602910</td>\n",
       "    </tr>\n",
       "    <tr>\n",
       "      <th>5212</th>\n",
       "      <td>NaN</td>\n",
       "      <td>윈드브레이커</td>\n",
       "      <td>602910</td>\n",
       "    </tr>\n",
       "    <tr>\n",
       "      <th>6015</th>\n",
       "      <td>NaN</td>\n",
       "      <td>윈드브레이커</td>\n",
       "      <td>602910</td>\n",
       "    </tr>\n",
       "    <tr>\n",
       "      <th>8809</th>\n",
       "      <td>NaN</td>\n",
       "      <td>윈드브레이커</td>\n",
       "      <td>602910</td>\n",
       "    </tr>\n",
       "    <tr>\n",
       "      <th>9752</th>\n",
       "      <td>NaN</td>\n",
       "      <td>윈드브레이커</td>\n",
       "      <td>602910</td>\n",
       "    </tr>\n",
       "    <tr>\n",
       "      <th>9779</th>\n",
       "      <td>NaN</td>\n",
       "      <td>윈드브레이커</td>\n",
       "      <td>602910</td>\n",
       "    </tr>\n",
       "    <tr>\n",
       "      <th>11916</th>\n",
       "      <td>NaN</td>\n",
       "      <td>소녀의 세계</td>\n",
       "      <td>654774</td>\n",
       "    </tr>\n",
       "    <tr>\n",
       "      <th>12481</th>\n",
       "      <td>NaN</td>\n",
       "      <td>소녀의 세계</td>\n",
       "      <td>654774</td>\n",
       "    </tr>\n",
       "    <tr>\n",
       "      <th>14813</th>\n",
       "      <td>NaN</td>\n",
       "      <td>여신강림</td>\n",
       "      <td>703846</td>\n",
       "    </tr>\n",
       "    <tr>\n",
       "      <th>18250</th>\n",
       "      <td>NaN</td>\n",
       "      <td>한림체육관</td>\n",
       "      <td>743139</td>\n",
       "    </tr>\n",
       "    <tr>\n",
       "      <th>18302</th>\n",
       "      <td>NaN</td>\n",
       "      <td>한림체육관</td>\n",
       "      <td>743139</td>\n",
       "    </tr>\n",
       "    <tr>\n",
       "      <th>18343</th>\n",
       "      <td>NaN</td>\n",
       "      <td>한림체육관</td>\n",
       "      <td>743139</td>\n",
       "    </tr>\n",
       "    <tr>\n",
       "      <th>21741</th>\n",
       "      <td>NaN</td>\n",
       "      <td>고수</td>\n",
       "      <td>662774</td>\n",
       "    </tr>\n",
       "    <tr>\n",
       "      <th>21755</th>\n",
       "      <td>NaN</td>\n",
       "      <td>고수</td>\n",
       "      <td>662774</td>\n",
       "    </tr>\n",
       "    <tr>\n",
       "      <th>24960</th>\n",
       "      <td>NaN</td>\n",
       "      <td>복학왕</td>\n",
       "      <td>626907</td>\n",
       "    </tr>\n",
       "    <tr>\n",
       "      <th>30120</th>\n",
       "      <td>NaN</td>\n",
       "      <td>모죠의 일지</td>\n",
       "      <td>728015</td>\n",
       "    </tr>\n",
       "    <tr>\n",
       "      <th>30833</th>\n",
       "      <td>NaN</td>\n",
       "      <td>모죠의 일지</td>\n",
       "      <td>728015</td>\n",
       "    </tr>\n",
       "    <tr>\n",
       "      <th>31293</th>\n",
       "      <td>NaN</td>\n",
       "      <td>모죠의 일지</td>\n",
       "      <td>728015</td>\n",
       "    </tr>\n",
       "    <tr>\n",
       "      <th>37693</th>\n",
       "      <td>NaN</td>\n",
       "      <td>연애혁명</td>\n",
       "      <td>570503</td>\n",
       "    </tr>\n",
       "    <tr>\n",
       "      <th>40003</th>\n",
       "      <td>NaN</td>\n",
       "      <td>독립일기</td>\n",
       "      <td>748105</td>\n",
       "    </tr>\n",
       "    <tr>\n",
       "      <th>40963</th>\n",
       "      <td>NaN</td>\n",
       "      <td>기기괴괴</td>\n",
       "      <td>557672</td>\n",
       "    </tr>\n",
       "    <tr>\n",
       "      <th>41135</th>\n",
       "      <td>NaN</td>\n",
       "      <td>기기괴괴</td>\n",
       "      <td>557672</td>\n",
       "    </tr>\n",
       "    <tr>\n",
       "      <th>44680</th>\n",
       "      <td>NaN</td>\n",
       "      <td>기기괴괴</td>\n",
       "      <td>557672</td>\n",
       "    </tr>\n",
       "    <tr>\n",
       "      <th>46248</th>\n",
       "      <td>NaN</td>\n",
       "      <td>이두나!</td>\n",
       "      <td>731130</td>\n",
       "    </tr>\n",
       "    <tr>\n",
       "      <th>46473</th>\n",
       "      <td>NaN</td>\n",
       "      <td>이두나!</td>\n",
       "      <td>731130</td>\n",
       "    </tr>\n",
       "    <tr>\n",
       "      <th>51296</th>\n",
       "      <td>NaN</td>\n",
       "      <td>외모지상주의</td>\n",
       "      <td>641253</td>\n",
       "    </tr>\n",
       "    <tr>\n",
       "      <th>55088</th>\n",
       "      <td>NaN</td>\n",
       "      <td>갓 오브 하이스쿨</td>\n",
       "      <td>318995</td>\n",
       "    </tr>\n",
       "    <tr>\n",
       "      <th>58673</th>\n",
       "      <td>NaN</td>\n",
       "      <td>갓 오브 하이스쿨</td>\n",
       "      <td>318995</td>\n",
       "    </tr>\n",
       "    <tr>\n",
       "      <th>59279</th>\n",
       "      <td>NaN</td>\n",
       "      <td>갓 오브 하이스쿨</td>\n",
       "      <td>318995</td>\n",
       "    </tr>\n",
       "    <tr>\n",
       "      <th>62086</th>\n",
       "      <td>NaN</td>\n",
       "      <td>프리드로우</td>\n",
       "      <td>597447</td>\n",
       "    </tr>\n",
       "    <tr>\n",
       "      <th>63315</th>\n",
       "      <td>NaN</td>\n",
       "      <td>프리드로우</td>\n",
       "      <td>597447</td>\n",
       "    </tr>\n",
       "    <tr>\n",
       "      <th>73476</th>\n",
       "      <td>NaN</td>\n",
       "      <td>싸움독학</td>\n",
       "      <td>736277</td>\n",
       "    </tr>\n",
       "    <tr>\n",
       "      <th>73675</th>\n",
       "      <td>NaN</td>\n",
       "      <td>싸움독학</td>\n",
       "      <td>736277</td>\n",
       "    </tr>\n",
       "    <tr>\n",
       "      <th>77558</th>\n",
       "      <td>NaN</td>\n",
       "      <td>열렙전사</td>\n",
       "      <td>670152</td>\n",
       "    </tr>\n",
       "    <tr>\n",
       "      <th>77775</th>\n",
       "      <td>NaN</td>\n",
       "      <td>열렙전사</td>\n",
       "      <td>670152</td>\n",
       "    </tr>\n",
       "  </tbody>\n",
       "</table>\n",
       "</div>"
      ],
      "text/plain": [
       "      comment webtoon_name  webtoon_num\n",
       "212       NaN         인생존망       733766\n",
       "5207      NaN       윈드브레이커       602910\n",
       "5212      NaN       윈드브레이커       602910\n",
       "6015      NaN       윈드브레이커       602910\n",
       "8809      NaN       윈드브레이커       602910\n",
       "9752      NaN       윈드브레이커       602910\n",
       "9779      NaN       윈드브레이커       602910\n",
       "11916     NaN       소녀의 세계       654774\n",
       "12481     NaN       소녀의 세계       654774\n",
       "14813     NaN         여신강림       703846\n",
       "18250     NaN        한림체육관       743139\n",
       "18302     NaN        한림체육관       743139\n",
       "18343     NaN        한림체육관       743139\n",
       "21741     NaN           고수       662774\n",
       "21755     NaN           고수       662774\n",
       "24960     NaN          복학왕       626907\n",
       "30120     NaN       모죠의 일지       728015\n",
       "30833     NaN       모죠의 일지       728015\n",
       "31293     NaN       모죠의 일지       728015\n",
       "37693     NaN         연애혁명       570503\n",
       "40003     NaN         독립일기       748105\n",
       "40963     NaN         기기괴괴       557672\n",
       "41135     NaN         기기괴괴       557672\n",
       "44680     NaN         기기괴괴       557672\n",
       "46248     NaN         이두나!       731130\n",
       "46473     NaN         이두나!       731130\n",
       "51296     NaN       외모지상주의       641253\n",
       "55088     NaN    갓 오브 하이스쿨       318995\n",
       "58673     NaN    갓 오브 하이스쿨       318995\n",
       "59279     NaN    갓 오브 하이스쿨       318995\n",
       "62086     NaN        프리드로우       597447\n",
       "63315     NaN        프리드로우       597447\n",
       "73476     NaN         싸움독학       736277\n",
       "73675     NaN         싸움독학       736277\n",
       "77558     NaN         열렙전사       670152\n",
       "77775     NaN         열렙전사       670152"
      ]
     },
     "execution_count": 28,
     "metadata": {},
     "output_type": "execute_result"
    }
   ],
   "source": [
    "# null값 위치 확인\n",
    "data.loc[data.comment.isnull()] "
   ]
  },
  {
   "cell_type": "code",
   "execution_count": 29,
   "metadata": {},
   "outputs": [],
   "source": [
    "# null값이 존재하는 행 제거\n",
    "data = data.dropna(how='any')"
   ]
  },
  {
   "cell_type": "code",
   "execution_count": 30,
   "metadata": {},
   "outputs": [
    {
     "data": {
      "text/html": [
       "<div>\n",
       "<style scoped>\n",
       "    .dataframe tbody tr th:only-of-type {\n",
       "        vertical-align: middle;\n",
       "    }\n",
       "\n",
       "    .dataframe tbody tr th {\n",
       "        vertical-align: top;\n",
       "    }\n",
       "\n",
       "    .dataframe thead th {\n",
       "        text-align: right;\n",
       "    }\n",
       "</style>\n",
       "<table border=\"1\" class=\"dataframe\">\n",
       "  <thead>\n",
       "    <tr style=\"text-align: right;\">\n",
       "      <th></th>\n",
       "      <th>comment</th>\n",
       "      <th>webtoon_name</th>\n",
       "      <th>webtoon_num</th>\n",
       "    </tr>\n",
       "  </thead>\n",
       "  <tbody>\n",
       "  </tbody>\n",
       "</table>\n",
       "</div>"
      ],
      "text/plain": [
       "Empty DataFrame\n",
       "Columns: [comment, webtoon_name, webtoon_num]\n",
       "Index: []"
      ]
     },
     "execution_count": 30,
     "metadata": {},
     "output_type": "execute_result"
    }
   ],
   "source": [
    "# null값 위치 확인\n",
    "data.loc[data.comment.isnull()] "
   ]
  },
  {
   "cell_type": "markdown",
   "metadata": {},
   "source": [
    "## ========================================="
   ]
  },
  {
   "cell_type": "markdown",
   "metadata": {},
   "source": [
    "## 명사만 추출하기"
   ]
  },
  {
   "cell_type": "code",
   "execution_count": 31,
   "metadata": {},
   "outputs": [],
   "source": [
    "okt = Okt()"
   ]
  },
  {
   "cell_type": "code",
   "execution_count": 33,
   "metadata": {},
   "outputs": [
    {
     "name": "stdout",
     "output_type": "stream",
     "text": [
      "[('수', 'Modifier'), ('수', 'Modifier'), ('고고', 'Noun'), ('하', 'Suffix'), ('하다', 'Verb'), ('습습', 'Noun'), ('니니', 'Noun'), ('다다', 'Noun')]\n"
     ]
    }
   ],
   "source": [
    "# comment에서 품사 정보를 부착하여 반환\n",
    "pos_comment = []\n",
    "for comment in data['comment']:\n",
    "    pos_temp = okt.pos(comment, norm=True, stem=True) #okt의 pos 함수를 이용하여 품사 추출\n",
    "    pos_comment.append(pos_temp)\n",
    "    \n",
    "print(pos_comment[3]) # 출력된 결과에서 Noun이 명사"
   ]
  },
  {
   "cell_type": "code",
   "execution_count": 34,
   "metadata": {},
   "outputs": [
    {
     "name": "stdout",
     "output_type": "stream",
     "text": [
      "['인생', '존망', '재미', '워싱', '칭따오', '이제', '시즌', '가시', '고고', '습습', '니니', '다다', '형', '난', '나', '징', '형', '미안', '글', '나', '왜', '아무', '언급', '안', '할머니', '글러브', '값', '어간', '게', '생활비', '거', '마음', '아픔', '다행', '진짜', '동수', '사과', '동수', '놈', '이', '실제', '작가', '일', '실제', '일', '각색', '스토리', '진짜', '충격', '개', '정색', '함', '작가', '화이팅', '혹시', '저', '동수', '사람', '땜', '최동수', '놈', '건가', '후기', '작가', '둘', '성격', '차이', '태준', '이형', '돈', '시즌', '여기', '댓글', '빙빙', '왜', '그', '쭉', '박태준', '작가', '웹툰', '대한', '열정', '땐', '일진', '생각', '웹툰작가', '로서', '이유', '시즌', '볼', '사람', '사람', '인생', '존망', '완결', '축하', '시즌', '핑크', '맨', '스폰지']\n"
     ]
    }
   ],
   "source": [
    "# 추출된 품사가 있는 리스트에서 명사만 추출해서 리스트로 만들기\n",
    "noun_comment = []\n",
    "for item in pos_comment:\n",
    "    for word, pos in item:\n",
    "        if pos == 'Noun': # 추출된 품사 리스트에서 Noun에 해당하는 값만 명사리스트에 저장\n",
    "            noun_comment.append(word)\n",
    "            \n",
    "print(noun_comment[:100])"
   ]
  },
  {
   "cell_type": "code",
   "execution_count": 52,
   "metadata": {},
   "outputs": [
    {
     "name": "stdout",
     "output_type": "stream",
     "text": [
      "['작가', '사람', '생각', '웹툰', '지금', '보고', '친구', '자기', '베댓', '모리']\n",
      "[7026, 6349, 4961, 2748, 2619, 2592, 2509, 2489, 2470, 2292]\n"
     ]
    }
   ],
   "source": [
    "# 명사 리스트에서 빈도수를 확인해서 탑 30개만 추출 \n",
    "# 자주 사용하는 명사 중에서 특정 명사 제거하기위한 리스트\n",
    "stopwords = ['이제','습습', '니니', '난', '나', '나', '아무', '안', '게', '거', '진짜', '놈', '이', '개','혹시', '저','땜', '놈','그냥']\n",
    "count = Counter(noun_comment)\n",
    "return_contents = []\n",
    "return_count = []\n",
    "\n",
    "stop_flag = True\n",
    "# 빈도수가 가장 높은 30개 추출\n",
    "for n, c in count.most_common(30):  \n",
    "    temp = {'tag': n, 'count': c}\n",
    "    for stopword in stopwords :\n",
    "        # 불용어가 존재하면 \n",
    "        if (stopword == n) : \n",
    "            stop_flag = False \n",
    "            break\n",
    "    #불용어가 포함되어 있지 않으면\n",
    "    if (stop_flag == True):\n",
    "        if len(n) > 1: #글자 수가 1 이상인 명사만 추출\n",
    "            return_contents.append(n)\n",
    "            return_count.append(c)\n",
    "            \n",
    "    stop_flag =True\n",
    "\n",
    "print(return_contents)\n",
    "print(return_count)"
   ]
  },
  {
   "cell_type": "markdown",
   "metadata": {},
   "source": [
    "## ========================================\n",
    "# 시각화\n",
    "## 댓글 키워드 빈도수에 따른 막대 그래프"
   ]
  },
  {
   "cell_type": "code",
   "execution_count": 53,
   "metadata": {},
   "outputs": [
    {
     "data": {
      "image/png": "[encoded data removed]",
      "text/plain": [
       "<Figure size 432x288 with 1 Axes>"
      ]
     },
     "metadata": {
      "needs_background": "light"
     },
     "output_type": "display_data"
    }
   ],
   "source": [
    "# 키워드 빈도수에 따른 막대 그래프 만들기\n",
    "import matplotlib.pyplot as plt\n",
    "\n",
    "from matplotlib import font_manager, rc\n",
    "font_name = font_manager.FontProperties(fname=\"c:/Windows/Fonts/malgun.ttf\").get_name()\n",
    "rc('font', family=font_name) #한글 사용을 위해 => 그냥 사용시 한글이 꺠짐\n",
    "\n",
    "x = np.arange(len(return_contents))\n",
    "\n",
    "plt.bar(x, return_count, color ='blue', width = 0.8)\n",
    "plt.xticks(x, return_contents)\n",
    "plt.show()"
   ]
  },
  {
   "cell_type": "markdown",
   "metadata": {},
   "source": [
    "##  댓글 키워드 빈도수에 따른 워드 클라우드"
   ]
  },
  {
   "cell_type": "code",
   "execution_count": 54,
   "metadata": {},
   "outputs": [],
   "source": [
    "str_noun_words = ','.join(noun_comment)\n",
    "FONT_PATH = 'C:/Windows/Fonts/malgun.ttf'"
   ]
  },
  {
   "cell_type": "code",
   "execution_count": 55,
   "metadata": {},
   "outputs": [
    {
     "data": {
      "image/png": "[encoded data removed]",
      "text/plain": [
       "<Figure size 432x288 with 1 Axes>"
      ]
     },
     "metadata": {
      "needs_background": "light"
     },
     "output_type": "display_data"
    }
   ],
   "source": [
    "wordcloud = WordCloud(collocation_threshold =30, max_font_size=60, stopwords=stopwords, background_color=\"white\", font_path=FONT_PATH).generate(str_noun_words)\n",
    "\n",
    "plt.figure()\n",
    "plt.imshow(wordcloud, interpolation='bilinear') # 가장 간단한 방법인 bilinear(Nearest는 화질이 떨어짐)\n",
    "plt.axis(\"off\")\n",
    "plt.show()"
   ]
  },
  {
   "cell_type": "code",
   "execution_count": null,
   "metadata": {},
   "outputs": [],
   "source": []
  }
 ],
 "metadata": {
  "kernelspec": {
   "display_name": "Python 3",
   "language": "python",
   "name": "python3"
  },
  "language_info": {
   "codemirror_mode": {
    "name": "ipython",
    "version": 3
   },
   "file_extension": ".py",
   "mimetype": "text/x-python",
   "name": "python",
   "nbconvert_exporter": "python",
   "pygments_lexer": "ipython3",
   "version": "3.8.3"
  }
 },
 "nbformat": 4,
 "nbformat_minor": 4
}
